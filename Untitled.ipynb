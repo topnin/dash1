{
 "cells": [
  {
   "cell_type": "code",
   "execution_count": 1,
   "id": "832f65ec-fa0b-4321-bd0c-aa33e7c7ff1e",
   "metadata": {},
   "outputs": [
    {
     "name": "stderr",
     "output_type": "stream",
     "text": [
      "2024-07-15 09:30:48.359 \n",
      "  \u001b[33m\u001b[1mWarning:\u001b[0m to view this Streamlit app on a browser, run it with the following\n",
      "  command:\n",
      "\n",
      "    streamlit run C:\\ProgramData\\anaconda3\\Lib\\site-packages\\ipykernel_launcher.py [ARGUMENTS]\n"
     ]
    },
    {
     "data": {
      "text/plain": [
       "DeltaGenerator()"
      ]
     },
     "execution_count": 1,
     "metadata": {},
     "output_type": "execute_result"
    }
   ],
   "source": [
    "import streamlit as st\n",
    "import pandas as pd\n",
    "import numpy as np\n",
    "import matplotlib.pyplot as plt\n",
    "\n",
    "# Title of the dashboard\n",
    "st.title('Sample Streamlit Dashboard')\n",
    "\n",
    "# Sidebar for user input\n",
    "st.sidebar.header('User Input Parameters')\n",
    "n = st.sidebar.slider('Number of data points', 10, 100, 50)\n",
    "option = st.sidebar.selectbox('Select a chart type', ('Line Chart', 'Bar Chart'))\n",
    "\n",
    "# Generate random data\n",
    "data = pd.DataFrame({\n",
    "    'x': np.arange(n),\n",
    "    'y': np.random.randn(n).cumsum()\n",
    "})\n",
    "\n",
    "# Display the data\n",
    "st.write('### Generated Data', data)\n",
    "\n",
    "# Plot the data\n",
    "st.write('### Chart')\n",
    "if option == 'Line Chart':\n",
    "    st.line_chart(data.set_index('x'))\n",
    "elif option == 'Bar Chart':\n",
    "    fig, ax = plt.subplots()\n",
    "    ax.bar(data['x'], data['y'])\n",
    "    st.pyplot(fig)\n",
    "\n",
    "# Adding a map\n",
    "st.write('### Map')\n",
    "map_data = pd.DataFrame(\n",
    "    np.random.randn(100, 2) / [50, 50] + [37.76, -122.4],\n",
    "    columns=['lat', 'lon'])\n",
    "st.map(map_data)"
   ]
  },
  {
   "cell_type": "code",
   "execution_count": null,
   "id": "ae7c1f7d-48eb-49b7-ba7e-606561f58cdd",
   "metadata": {},
   "outputs": [],
   "source": [
    "streamlit run "
   ]
  }
 ],
 "metadata": {
  "kernelspec": {
   "display_name": "Python 3 (ipykernel)",
   "language": "python",
   "name": "python3"
  },
  "language_info": {
   "codemirror_mode": {
    "name": "ipython",
    "version": 3
   },
   "file_extension": ".py",
   "mimetype": "text/x-python",
   "name": "python",
   "nbconvert_exporter": "python",
   "pygments_lexer": "ipython3",
   "version": "3.11.7"
  }
 },
 "nbformat": 4,
 "nbformat_minor": 5
}
